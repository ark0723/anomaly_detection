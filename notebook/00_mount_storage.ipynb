{
 "cells": [
  {
   "cell_type": "code",
   "execution_count": 0,
   "metadata": {
    "application/vnd.databricks.v1+cell": {
     "cellMetadata": {
      "byteLimit": 2048000,
      "rowLimit": 10000
     },
     "inputWidgets": {},
     "nuid": "de19d745-5ecc-44f9-a6a2-accc575e9417",
     "showTitle": false,
     "tableResultSettingsMap": {},
     "title": ""
    }
   },
   "outputs": [],
   "source": [
    "%pip install azure-identity azure-keyvault-secrets"
   ]
  },
  {
   "cell_type": "code",
   "execution_count": 0,
   "metadata": {
    "application/vnd.databricks.v1+cell": {
     "cellMetadata": {
      "byteLimit": 2048000,
      "rowLimit": 10000
     },
     "inputWidgets": {},
     "nuid": "d3d5964c-6dc0-4174-88f1-982080064600",
     "showTitle": false,
     "tableResultSettingsMap": {},
     "title": ""
    }
   },
   "outputs": [],
   "source": [
    "%restart_python"
   ]
  },
  {
   "cell_type": "code",
   "execution_count": 0,
   "metadata": {
    "application/vnd.databricks.v1+cell": {
     "cellMetadata": {
      "byteLimit": 2048000,
      "rowLimit": 10000
     },
     "inputWidgets": {},
     "nuid": "0fbb5778-7f17-4a22-97ec-72c1233e8478",
     "showTitle": false,
     "tableResultSettingsMap": {},
     "title": ""
    }
   },
   "outputs": [],
   "source": [
    "from azure.identity import DefaultAzureCredential\n",
    "from azure.keyvault.secrets import SecretClient\n",
    "\n",
    "# storage mount with keyvault\n",
    "key_vault_url = \"https://anomalykeyvault10222025.vault.azure.net/\"\n",
    "key_name_tenant_id = \"tenant-id\"\n",
    "key_name_client_id = \"client-id\"\n",
    "key_name_client_secret = \"client-secret\"\n",
    "\n",
    "# storage to mount\n",
    "storge_account_name = \"stlabelingdevwestus001\"\n",
    "container = \"data\"\n",
    "mount_name = \"datamount\"\n",
    "\n",
    "# keyvault credential\n",
    "credential = DefaultAzureCredential()\n",
    "client = SecretClient(vault_url=key_vault_url, credential=credential)\n",
    "\n",
    "# get keyvault secret\n",
    "tenant_id = client.get_secret(key_name_tenant_id).value\n",
    "client_id = client.get_secret(key_name_client_id).value\n",
    "client_secret = client.get_secret(key_name_client_secret).value\n",
    "\n",
    "# OAuth and Mount\n",
    "configs = {\n",
    "    \"fs.azure.account.auth.type\": \"OAuth\",\n",
    "    \"fs.azure.account.oauth.provider.type\": \"org.apache.hadoop.fs.azurebfs.oauth2.ClientCredsTokenProvider\",\n",
    "    \"fs.azure.account.oauth2.client.id\": client_id,\n",
    "    \"fs.azure.account.oauth2.client.secret\": client_secret,\n",
    "    \"fs.azure.account.oauth2.client.endpoint\": f\"https://login.microsoftonline.com/{tenant_id}/oauth2/token\"\n",
    "}\n",
    "\n",
    "# (참고) 이미 마운트된 경우 오류가 발생할 수 있으므로, \n",
    "# 재실행 시 dbutils.fs.unmount(f\"/mnt/{mount_name}\") 를 먼저 실행\n",
    "try:\n",
    "    dbutils.fs.mount(\n",
    "        source = f\"abfss://{container}@{storge_account_name}.dfs.core.windows.net/\",\n",
    "        mount_point = f\"/mnt/{mount_name}\",\n",
    "        extra_configs = configs\n",
    "    )\n",
    "    print(f\"Mount success: /mnt/{mount_name}\")\n",
    "except Exception as e:\n",
    "    print(f\"Error: {e}\")\n",
    "    print(f\"/mnt/{mount_name} is already mounted or another error occurred.\")"
   ]
  },
  {
   "cell_type": "code",
   "execution_count": 0,
   "metadata": {
    "application/vnd.databricks.v1+cell": {
     "cellMetadata": {
      "byteLimit": 2048000,
      "rowLimit": 10000
     },
     "inputWidgets": {},
     "nuid": "0496d750-685d-455d-813f-09eac8280e72",
     "showTitle": false,
     "tableResultSettingsMap": {},
     "title": ""
    }
   },
   "outputs": [],
   "source": [
    "# list the contents of the mounted directory\n",
    "dbutils.fs.ls(f\"/mnt/{mount_name}\")"
   ]
  },
  {
   "cell_type": "code",
   "execution_count": 0,
   "metadata": {
    "application/vnd.databricks.v1+cell": {
     "cellMetadata": {
      "byteLimit": 2048000,
      "rowLimit": 10000
     },
     "inputWidgets": {},
     "nuid": "42d226fd-fe89-4876-b588-437e95981eb2",
     "showTitle": false,
     "tableResultSettingsMap": {},
     "title": ""
    }
   },
   "outputs": [],
   "source": [
    "dbutils.fs.ls(f\"/mnt/{mount_name}/labels\")"
   ]
  },
  {
   "cell_type": "code",
   "execution_count": 0,
   "metadata": {
    "application/vnd.databricks.v1+cell": {
     "cellMetadata": {},
     "inputWidgets": {},
     "nuid": "6c1c90d2-d01f-444d-8fab-83ff8a50f68e",
     "showTitle": false,
     "tableResultSettingsMap": {},
     "title": ""
    }
   },
   "outputs": [],
   "source": []
  }
 ],
 "metadata": {
  "application/vnd.databricks.v1+notebook": {
   "computePreferences": {
    "hardware": {
     "accelerator": null,
     "gpuPoolId": null,
     "memory": null
    }
   },
   "dashboards": [],
   "environmentMetadata": {
    "base_environment": "",
    "environment_version": "4"
   },
   "inputWidgetPreferences": null,
   "language": "python",
   "notebookMetadata": {
    "pythonIndentUnit": 4
   },
   "notebookName": "00_mount_storage",
   "widgets": {}
  },
  "language_info": {
   "name": "python"
  }
 },
 "nbformat": 4,
 "nbformat_minor": 0
}
