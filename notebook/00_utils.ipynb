{
 "cells": [
  {
   "cell_type": "code",
   "execution_count": 0,
   "metadata": {
    "application/vnd.databricks.v1+cell": {
     "cellMetadata": {
      "byteLimit": 2048000,
      "rowLimit": 10000
     },
     "inputWidgets": {},
     "nuid": "ae75f241-5ced-4abf-a944-7c43f382a691",
     "showTitle": false,
     "tableResultSettingsMap": {},
     "title": ""
    }
   },
   "outputs": [],
   "source": [
    "mount_path = \"/mnt/datamount\"\n",
    "dbutils.fs.ls(mount_path)"
   ]
  },
  {
   "cell_type": "code",
   "execution_count": 0,
   "metadata": {
    "application/vnd.databricks.v1+cell": {
     "cellMetadata": {
      "byteLimit": 2048000,
      "rowLimit": 10000
     },
     "inputWidgets": {},
     "nuid": "9ac5c656-c697-428e-a1c9-4dec39634d14",
     "showTitle": false,
     "tableResultSettingsMap": {},
     "title": ""
    }
   },
   "outputs": [],
   "source": [
    "import matplotlib.pyplot as plt\n",
    "from PIL import Image\n",
    "import pyspark.sql.functions as F\n",
    "import io"
   ]
  },
  {
   "cell_type": "code",
   "execution_count": 0,
   "metadata": {
    "application/vnd.databricks.v1+cell": {
     "cellMetadata": {
      "byteLimit": 2048000,
      "rowLimit": 10000
     },
     "inputWidgets": {},
     "nuid": "ca6f0b1d-c60c-49ea-a26a-4684706c4e24",
     "showTitle": false,
     "tableResultSettingsMap": {},
     "title": ""
    }
   },
   "outputs": [],
   "source": [
    "def display_image(df, sample_size: int = 5, keep_order = True):\n",
    "    \"\"\"\n",
    "    Display sample images from a Spark DataFrame containing image file paths.\n",
    "\n",
    "    Args:\n",
    "        df (DataFrame): Spark DataFrame with at least 'path' and 'name' columns.\n",
    "        sample_size (int): Number of images to display.\n",
    "        keep_order (bool): If True, display the first N images in order.\n",
    "                           If False, display N random images.\n",
    "\n",
    "    Returns:\n",
    "        None. Displays images using matplotlib.\n",
    "    \"\"\"\n",
    "    if keep_order:\n",
    "        images = df.take(sample_size) # Get the first N rows as a list.\n",
    "    else:\n",
    "        # Get N random rows as a list.\n",
    "        # df.orderBy(F.rand()).limit(sample_size) : dataframe -> not callable\n",
    "        images = df.orderBy(F.rand()).limit(sample_size).collect()\n",
    "\n",
    "    plt.figure(figsize=(10, 10))\n",
    "    for i, row in enumerate(images):\n",
    "        # Replace \"dbfs:/\" with \"/dbfs/\" for local file access in Databricks.\n",
    "        # why? FileNotFoundError: [Errno 2] No such file or directory: '/Workspace/Users/ark0723@gmail.com/anomaly_detection/notebook/dbfs:/mnt/datamount/images/frame_0.jpg' \n",
    "        img_path = row.path.replace(\"dbfs:/\", \"/dbfs/\")\n",
    "        img = Image.open(img_path)\n",
    "        plt.subplot(1, sample_size, i+1)\n",
    "        plt.title(row.name)\n",
    "        plt.axis(\"off\")\n",
    "        plt.imshow(img)\n",
    "\n",
    "\n",
    "def display_bytes_image_in_df(df, sample_size: int = 5, keep_order = True):\n",
    "    \"\"\"\n",
    "    Display sample images from a Spark DataFrame containing image file paths.\n",
    "\n",
    "    Args:\n",
    "        df (DataFrame): Spark DataFrame with at least 'path' and 'name' columns.\n",
    "        sample_size (int): Number of images to display.\n",
    "        keep_order (bool): If True, display the first N images in order.\n",
    "                           If False, display N random images.\n",
    "\n",
    "    Returns:\n",
    "        None. Displays images using matplotlib.\n",
    "    \"\"\"\n",
    "    if keep_order:\n",
    "        images = df.take(sample_size) # Get the first N rows as a list.\n",
    "    else:\n",
    "        # Get N random rows as a list.\n",
    "        # df.orderBy(F.rand()).limit(sample_size) : dataframe -> not callable\n",
    "        images = df.orderBy(F.rand()).limit(sample_size).collect()\n",
    "\n",
    "    plt.figure(figsize=(10, 10))\n",
    "    for i, row in enumerate(images):\n",
    "        img = Image.open(io.BytesIO(row.image))\n",
    "        plt.subplot(1, sample_size, i+1)\n",
    "        plt.title(row.name)\n",
    "        plt.axis(\"off\")\n",
    "        plt.imshow(img)"
   ]
  },
  {
   "cell_type": "code",
   "execution_count": 0,
   "metadata": {
    "application/vnd.databricks.v1+cell": {
     "cellMetadata": {
      "byteLimit": 2048000,
      "rowLimit": 10000
     },
     "inputWidgets": {},
     "nuid": "2b0c9d07-fc54-441c-b6d5-de3be712ad60",
     "showTitle": false,
     "tableResultSettingsMap": {},
     "title": ""
    }
   },
   "outputs": [],
   "source": [
    "def create_file_info_df(imgs_dir: str):\n",
    "    full_path = f\"{mount_path}/{imgs_dir}\"\n",
    "    try:\n",
    "        files = dbutils.fs.ls(full_path)\n",
    "    except Exception:\n",
    "        raise Exception(f\"Directory {full_path} does not exist\")\n",
    "        return None\n",
    "\n",
    "    file_info_list = [{\"path\": file.path, \"name\": file.name} for file in files]\n",
    "    return spark.createDataFrame(file_info_list)"
   ]
  },
  {
   "cell_type": "code",
   "execution_count": 0,
   "metadata": {
    "application/vnd.databricks.v1+cell": {
     "cellMetadata": {},
     "inputWidgets": {},
     "nuid": "cfd8a28e-aa0a-4a2f-91e4-a3f1c83a37ca",
     "showTitle": false,
     "tableResultSettingsMap": {},
     "title": ""
    }
   },
   "outputs": [],
   "source": []
  }
 ],
 "metadata": {
  "application/vnd.databricks.v1+notebook": {
   "computePreferences": null,
   "dashboards": [],
   "environmentMetadata": {
    "base_environment": "",
    "environment_version": "4"
   },
   "inputWidgetPreferences": null,
   "language": "python",
   "notebookMetadata": {
    "pythonIndentUnit": 4
   },
   "notebookName": "00_utils",
   "widgets": {}
  },
  "language_info": {
   "name": "python"
  }
 },
 "nbformat": 4,
 "nbformat_minor": 0
}
